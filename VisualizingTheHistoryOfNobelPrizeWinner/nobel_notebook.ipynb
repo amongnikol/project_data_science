{
 "cells": [
  {
   "cell_type": "markdown",
   "metadata": {},
   "source": [
    "The Nobel Prize has been among the most prestigious international awards since 1901. Each year, awards are bestowed in chemistry, literature, physics, physiology or medicine, economics, and peace. In addition to the honor, prestige, and substantial prize money, the recipient also gets a gold medal with an image of Alfred Nobel (1833 - 1896), who established the prize.\n",
    "\n",
    "![](Nobel_Prize.png)\n",
    "\n",
    "The Nobel Foundation has made a dataset available of all prize winners from the outset of the awards from 1901 to 2023. The dataset used in this project is from the Nobel Prize API and is available in the `nobel.csv` file in the `data` folder.\n",
    "\n",
    "In this project, you'll get a chance to explore and answer several questions related to this prizewinning data. And we encourage you then to explore further questions that you're interested in!"
   ]
  },
  {
   "cell_type": "code",
   "execution_count": 2,
   "metadata": {},
   "outputs": [
    {
     "data": {
      "text/html": [
       "<div>\n",
       "<style scoped>\n",
       "    .dataframe tbody tr th:only-of-type {\n",
       "        vertical-align: middle;\n",
       "    }\n",
       "\n",
       "    .dataframe tbody tr th {\n",
       "        vertical-align: top;\n",
       "    }\n",
       "\n",
       "    .dataframe thead th {\n",
       "        text-align: right;\n",
       "    }\n",
       "</style>\n",
       "<table border=\"1\" class=\"dataframe\">\n",
       "  <thead>\n",
       "    <tr style=\"text-align: right;\">\n",
       "      <th></th>\n",
       "      <th>Id</th>\n",
       "      <th>Firstname</th>\n",
       "      <th>Surname</th>\n",
       "      <th>Born</th>\n",
       "      <th>Died</th>\n",
       "      <th>Born country</th>\n",
       "      <th>Born country code</th>\n",
       "      <th>Born city</th>\n",
       "      <th>Died country</th>\n",
       "      <th>Died country code</th>\n",
       "      <th>...</th>\n",
       "      <th>Gender</th>\n",
       "      <th>Year</th>\n",
       "      <th>Category</th>\n",
       "      <th>Overall motivation</th>\n",
       "      <th>Motivation</th>\n",
       "      <th>Organization name</th>\n",
       "      <th>Organization city</th>\n",
       "      <th>Organization country</th>\n",
       "      <th>Geo Shape</th>\n",
       "      <th>Geo Point 2D</th>\n",
       "    </tr>\n",
       "  </thead>\n",
       "  <tbody>\n",
       "    <tr>\n",
       "      <th>0</th>\n",
       "      <td>820</td>\n",
       "      <td>Leonid</td>\n",
       "      <td>Hurwicz</td>\n",
       "      <td>1917-08-21</td>\n",
       "      <td>2008-06-24</td>\n",
       "      <td>Russia</td>\n",
       "      <td>RU</td>\n",
       "      <td>Moscow</td>\n",
       "      <td>USA</td>\n",
       "      <td>US</td>\n",
       "      <td>...</td>\n",
       "      <td>male</td>\n",
       "      <td>2007</td>\n",
       "      <td>Economics</td>\n",
       "      <td>NaN</td>\n",
       "      <td>\"for having laid the foundations of mechanism ...</td>\n",
       "      <td>University of Minnesota</td>\n",
       "      <td>Minneapolis MN</td>\n",
       "      <td>USA</td>\n",
       "      <td>{\"coordinates\": [[[[-155.60651897, 20.13795556...</td>\n",
       "      <td>45.68753333949257, -112.49433391594603</td>\n",
       "    </tr>\n",
       "    <tr>\n",
       "      <th>1</th>\n",
       "      <td>28</td>\n",
       "      <td>Robert A.</td>\n",
       "      <td>Millikan</td>\n",
       "      <td>1868-03-22</td>\n",
       "      <td>1953-12-19</td>\n",
       "      <td>USA</td>\n",
       "      <td>US</td>\n",
       "      <td>Morrison IL</td>\n",
       "      <td>USA</td>\n",
       "      <td>US</td>\n",
       "      <td>...</td>\n",
       "      <td>male</td>\n",
       "      <td>1923</td>\n",
       "      <td>Physics</td>\n",
       "      <td>NaN</td>\n",
       "      <td>\"for his work on the elementary charge of elec...</td>\n",
       "      <td>California Institute of Technology (Caltech)</td>\n",
       "      <td>Pasadena CA</td>\n",
       "      <td>USA</td>\n",
       "      <td>{\"coordinates\": [[[[-155.60651897, 20.13795556...</td>\n",
       "      <td>45.68753333949257, -112.49433391594603</td>\n",
       "    </tr>\n",
       "    <tr>\n",
       "      <th>2</th>\n",
       "      <td>90</td>\n",
       "      <td>Murray</td>\n",
       "      <td>Gell-Mann</td>\n",
       "      <td>1929-09-15</td>\n",
       "      <td>2019-05-24</td>\n",
       "      <td>USA</td>\n",
       "      <td>US</td>\n",
       "      <td>New York NY</td>\n",
       "      <td>USA</td>\n",
       "      <td>US</td>\n",
       "      <td>...</td>\n",
       "      <td>male</td>\n",
       "      <td>1969</td>\n",
       "      <td>Physics</td>\n",
       "      <td>NaN</td>\n",
       "      <td>\"for his contributions and discoveries concern...</td>\n",
       "      <td>California Institute of Technology (Caltech)</td>\n",
       "      <td>Pasadena CA</td>\n",
       "      <td>USA</td>\n",
       "      <td>{\"coordinates\": [[[[-155.60651897, 20.13795556...</td>\n",
       "      <td>45.68753333949257, -112.49433391594603</td>\n",
       "    </tr>\n",
       "    <tr>\n",
       "      <th>3</th>\n",
       "      <td>562</td>\n",
       "      <td>Carlos Filipe Ximenes</td>\n",
       "      <td>Belo</td>\n",
       "      <td>1948-02-03</td>\n",
       "      <td>NaN</td>\n",
       "      <td>East Timor</td>\n",
       "      <td>TL</td>\n",
       "      <td>Wailacama</td>\n",
       "      <td>NaN</td>\n",
       "      <td>NaN</td>\n",
       "      <td>...</td>\n",
       "      <td>male</td>\n",
       "      <td>1996</td>\n",
       "      <td>Peace</td>\n",
       "      <td>NaN</td>\n",
       "      <td>\"for their work towards a just and peaceful so...</td>\n",
       "      <td>NaN</td>\n",
       "      <td>NaN</td>\n",
       "      <td>NaN</td>\n",
       "      <td>NaN</td>\n",
       "      <td>NaN</td>\n",
       "    </tr>\n",
       "    <tr>\n",
       "      <th>4</th>\n",
       "      <td>569</td>\n",
       "      <td>Sully</td>\n",
       "      <td>Prudhomme</td>\n",
       "      <td>1839-03-16</td>\n",
       "      <td>1907-09-07</td>\n",
       "      <td>France</td>\n",
       "      <td>FR</td>\n",
       "      <td>Paris</td>\n",
       "      <td>France</td>\n",
       "      <td>FR</td>\n",
       "      <td>...</td>\n",
       "      <td>male</td>\n",
       "      <td>1901</td>\n",
       "      <td>Literature</td>\n",
       "      <td>NaN</td>\n",
       "      <td>\"in special recognition of his poetic composit...</td>\n",
       "      <td>NaN</td>\n",
       "      <td>NaN</td>\n",
       "      <td>NaN</td>\n",
       "      <td>NaN</td>\n",
       "      <td>NaN</td>\n",
       "    </tr>\n",
       "  </tbody>\n",
       "</table>\n",
       "<p>5 rows × 21 columns</p>\n",
       "</div>"
      ],
      "text/plain": [
       "    Id              Firstname    Surname        Born        Died Born country  \\\n",
       "0  820                 Leonid    Hurwicz  1917-08-21  2008-06-24       Russia   \n",
       "1   28              Robert A.   Millikan  1868-03-22  1953-12-19          USA   \n",
       "2   90                 Murray  Gell-Mann  1929-09-15  2019-05-24          USA   \n",
       "3  562  Carlos Filipe Ximenes       Belo  1948-02-03         NaN   East Timor   \n",
       "4  569                  Sully  Prudhomme  1839-03-16  1907-09-07       France   \n",
       "\n",
       "  Born country code    Born city Died country Died country code  ... Gender  \\\n",
       "0                RU       Moscow          USA                US  ...   male   \n",
       "1                US  Morrison IL          USA                US  ...   male   \n",
       "2                US  New York NY          USA                US  ...   male   \n",
       "3                TL    Wailacama          NaN               NaN  ...   male   \n",
       "4                FR        Paris       France                FR  ...   male   \n",
       "\n",
       "   Year    Category Overall motivation  \\\n",
       "0  2007   Economics                NaN   \n",
       "1  1923     Physics                NaN   \n",
       "2  1969     Physics                NaN   \n",
       "3  1996       Peace                NaN   \n",
       "4  1901  Literature                NaN   \n",
       "\n",
       "                                          Motivation  \\\n",
       "0  \"for having laid the foundations of mechanism ...   \n",
       "1  \"for his work on the elementary charge of elec...   \n",
       "2  \"for his contributions and discoveries concern...   \n",
       "3  \"for their work towards a just and peaceful so...   \n",
       "4  \"in special recognition of his poetic composit...   \n",
       "\n",
       "                              Organization name Organization city  \\\n",
       "0                       University of Minnesota    Minneapolis MN   \n",
       "1  California Institute of Technology (Caltech)       Pasadena CA   \n",
       "2  California Institute of Technology (Caltech)       Pasadena CA   \n",
       "3                                           NaN               NaN   \n",
       "4                                           NaN               NaN   \n",
       "\n",
       "  Organization country                                          Geo Shape  \\\n",
       "0                  USA  {\"coordinates\": [[[[-155.60651897, 20.13795556...   \n",
       "1                  USA  {\"coordinates\": [[[[-155.60651897, 20.13795556...   \n",
       "2                  USA  {\"coordinates\": [[[[-155.60651897, 20.13795556...   \n",
       "3                  NaN                                                NaN   \n",
       "4                  NaN                                                NaN   \n",
       "\n",
       "                             Geo Point 2D  \n",
       "0  45.68753333949257, -112.49433391594603  \n",
       "1  45.68753333949257, -112.49433391594603  \n",
       "2  45.68753333949257, -112.49433391594603  \n",
       "3                                     NaN  \n",
       "4                                     NaN  \n",
       "\n",
       "[5 rows x 21 columns]"
      ]
     },
     "execution_count": 2,
     "metadata": {},
     "output_type": "execute_result"
    }
   ],
   "source": [
    "import pandas as pd\n",
    "import seaborn as sns\n",
    "import numpy as np\n",
    "\n",
    "# load data\n",
    "nobel = pd.read_csv('nobel_dataset.csv', sep=';')\n",
    "nobel.head()"
   ]
  },
  {
   "cell_type": "code",
   "execution_count": 3,
   "metadata": {},
   "outputs": [
    {
     "name": "stdout",
     "output_type": "stream",
     "text": [
      "<class 'pandas.core.frame.DataFrame'>\n",
      "RangeIndex: 989 entries, 0 to 988\n",
      "Data columns (total 21 columns):\n",
      " #   Column                Non-Null Count  Dtype \n",
      "---  ------                --------------  ----- \n",
      " 0   Id                    989 non-null    int64 \n",
      " 1   Firstname             988 non-null    object\n",
      " 2   Surname               956 non-null    object\n",
      " 3   Born                  949 non-null    object\n",
      " 4   Died                  662 non-null    object\n",
      " 5   Born country          958 non-null    object\n",
      " 6   Born country code     958 non-null    object\n",
      " 7   Born city             956 non-null    object\n",
      " 8   Died country          650 non-null    object\n",
      " 9   Died country code     650 non-null    object\n",
      " 10  Died city             644 non-null    object\n",
      " 11  Gender                989 non-null    object\n",
      " 12  Year                  989 non-null    int64 \n",
      " 13  Category              989 non-null    object\n",
      " 14  Overall motivation    23 non-null     object\n",
      " 15  Motivation            989 non-null    object\n",
      " 16  Organization name     727 non-null    object\n",
      " 17  Organization city     722 non-null    object\n",
      " 18  Organization country  724 non-null    object\n",
      " 19  Geo Shape             631 non-null    object\n",
      " 20  Geo Point 2D          631 non-null    object\n",
      "dtypes: int64(2), object(19)\n",
      "memory usage: 162.4+ KB\n"
     ]
    }
   ],
   "source": [
    "nobel.info()"
   ]
  },
  {
   "cell_type": "code",
   "execution_count": 4,
   "metadata": {},
   "outputs": [
    {
     "data": {
      "text/plain": [
       "('USA', 'male')"
      ]
     },
     "execution_count": 4,
     "metadata": {},
     "output_type": "execute_result"
    }
   ],
   "source": [
    "# Simpan dan tampilkan gender dan negara kelahiran yang paling sering mendapatkan penghargaan dalam variabel yang diminta\n",
    "top_gender = nobel['Gender'].value_counts().index[0]\n",
    "top_country = nobel['Born country'].value_counts().index[0]\n",
    "\n",
    "top_country, top_gender"
   ]
  },
  {
   "cell_type": "code",
   "execution_count": 7,
   "metadata": {},
   "outputs": [
    {
     "data": {
      "image/png": "[encoded data removed]",
      "text/plain": [
       "<Figure size 640x480 with 1 Axes>"
      ]
     },
     "metadata": {},
     "output_type": "display_data"
    }
   ],
   "source": [
    "import matplotlib.pyplot as plt\n",
    "\n",
    "plt.hist(nobel[\"Year\"])\n",
    "plt.show()"
   ]
  },
  {
   "cell_type": "code",
   "execution_count": 8,
   "metadata": {},
   "outputs": [
    {
     "data": {
      "text/html": [
       "<div>\n",
       "<style scoped>\n",
       "    .dataframe tbody tr th:only-of-type {\n",
       "        vertical-align: middle;\n",
       "    }\n",
       "\n",
       "    .dataframe tbody tr th {\n",
       "        vertical-align: top;\n",
       "    }\n",
       "\n",
       "    .dataframe thead th {\n",
       "        text-align: right;\n",
       "    }\n",
       "</style>\n",
       "<table border=\"1\" class=\"dataframe\">\n",
       "  <thead>\n",
       "    <tr style=\"text-align: right;\">\n",
       "      <th></th>\n",
       "      <th>decade</th>\n",
       "      <th>usa_born_winner</th>\n",
       "    </tr>\n",
       "  </thead>\n",
       "  <tbody>\n",
       "    <tr>\n",
       "      <th>0</th>\n",
       "      <td>1900</td>\n",
       "      <td>0.017544</td>\n",
       "    </tr>\n",
       "    <tr>\n",
       "      <th>1</th>\n",
       "      <td>1910</td>\n",
       "      <td>0.075000</td>\n",
       "    </tr>\n",
       "    <tr>\n",
       "      <th>2</th>\n",
       "      <td>1920</td>\n",
       "      <td>0.074074</td>\n",
       "    </tr>\n",
       "    <tr>\n",
       "      <th>3</th>\n",
       "      <td>1930</td>\n",
       "      <td>0.250000</td>\n",
       "    </tr>\n",
       "    <tr>\n",
       "      <th>4</th>\n",
       "      <td>1940</td>\n",
       "      <td>0.302326</td>\n",
       "    </tr>\n",
       "    <tr>\n",
       "      <th>5</th>\n",
       "      <td>1950</td>\n",
       "      <td>0.291667</td>\n",
       "    </tr>\n",
       "    <tr>\n",
       "      <th>6</th>\n",
       "      <td>1960</td>\n",
       "      <td>0.265823</td>\n",
       "    </tr>\n",
       "    <tr>\n",
       "      <th>7</th>\n",
       "      <td>1970</td>\n",
       "      <td>0.317308</td>\n",
       "    </tr>\n",
       "    <tr>\n",
       "      <th>8</th>\n",
       "      <td>1980</td>\n",
       "      <td>0.319588</td>\n",
       "    </tr>\n",
       "    <tr>\n",
       "      <th>9</th>\n",
       "      <td>1990</td>\n",
       "      <td>0.403846</td>\n",
       "    </tr>\n",
       "    <tr>\n",
       "      <th>10</th>\n",
       "      <td>2000</td>\n",
       "      <td>0.422764</td>\n",
       "    </tr>\n",
       "    <tr>\n",
       "      <th>11</th>\n",
       "      <td>2010</td>\n",
       "      <td>0.322314</td>\n",
       "    </tr>\n",
       "    <tr>\n",
       "      <th>12</th>\n",
       "      <td>2020</td>\n",
       "      <td>0.384615</td>\n",
       "    </tr>\n",
       "  </tbody>\n",
       "</table>\n",
       "</div>"
      ],
      "text/plain": [
       "    decade  usa_born_winner\n",
       "0     1900         0.017544\n",
       "1     1910         0.075000\n",
       "2     1920         0.074074\n",
       "3     1930         0.250000\n",
       "4     1940         0.302326\n",
       "5     1950         0.291667\n",
       "6     1960         0.265823\n",
       "7     1970         0.317308\n",
       "8     1980         0.319588\n",
       "9     1990         0.403846\n",
       "10    2000         0.422764\n",
       "11    2010         0.322314\n",
       "12    2020         0.384615"
      ]
     },
     "execution_count": 8,
     "metadata": {},
     "output_type": "execute_result"
    }
   ],
   "source": [
    "# menghitung proporsi pemenang kelahiran Amerika Serikat untuk setiap dekade\n",
    "nobel['usa_born_winner'] = nobel['Born country'] == 'USA'\n",
    "nobel['decade'] = ((nobel['Year'] // 10) * 10).astype(int)\n",
    "prop_usa_winners = nobel.groupby('decade', as_index=False)['usa_born_winner'].mean()\n",
    "\n",
    "prop_usa_winners\n"
   ]
  },
  {
   "cell_type": "code",
   "execution_count": 11,
   "metadata": {},
   "outputs": [
    {
     "data": {
      "text/plain": [
       "2000"
      ]
     },
     "execution_count": 11,
     "metadata": {},
     "output_type": "execute_result"
    }
   ],
   "source": [
    "# Identifikasi dekade dengan proporsi pemenang kelahiran AS (Amerika Serikat) tertinggi\n",
    "max_decade_usa = prop_usa_winners[prop_usa_winners['usa_born_winner'] == prop_usa_winners['usa_born_winner'].max()]['decade'].values[0]\n",
    "max_decade_usa"
   ]
  },
  {
   "cell_type": "code",
   "execution_count": 12,
   "metadata": {},
   "outputs": [
    {
     "name": "stderr",
     "output_type": "stream",
     "text": [
      "c:\\Users\\akmal\\anaconda3\\envs\\keras_env\\lib\\site-packages\\seaborn\\axisgrid.py:123: UserWarning: The figure layout has changed to tight\n",
      "  self._figure.tight_layout(*args, **kwargs)\n"
     ]
    },
    {
     "data": {
      "image/png": "[encoded data removed]",
      "text/plain": [
       "<Figure size 500x500 with 1 Axes>"
      ]
     },
     "metadata": {},
     "output_type": "display_data"
    }
   ],
   "source": [
    "ax1 = sns.relplot(x='decade', y='usa_born_winner', data=prop_usa_winners, kind=\"line\")\n"
   ]
  },
  {
   "cell_type": "code",
   "execution_count": 13,
   "metadata": {},
   "outputs": [
    {
     "data": {
      "text/plain": [
       "Gender\n",
       "male      898\n",
       "female     61\n",
       "org        30\n",
       "Name: count, dtype: int64"
      ]
     },
     "execution_count": 13,
     "metadata": {},
     "output_type": "execute_result"
    }
   ],
   "source": [
    "nobel['Gender'].value_counts()"
   ]
  },
  {
   "cell_type": "code",
   "execution_count": 14,
   "metadata": {},
   "outputs": [
    {
     "data": {
      "text/html": [
       "<div>\n",
       "<style scoped>\n",
       "    .dataframe tbody tr th:only-of-type {\n",
       "        vertical-align: middle;\n",
       "    }\n",
       "\n",
       "    .dataframe tbody tr th {\n",
       "        vertical-align: top;\n",
       "    }\n",
       "\n",
       "    .dataframe thead th {\n",
       "        text-align: right;\n",
       "    }\n",
       "</style>\n",
       "<table border=\"1\" class=\"dataframe\">\n",
       "  <thead>\n",
       "    <tr style=\"text-align: right;\">\n",
       "      <th></th>\n",
       "      <th>decade</th>\n",
       "      <th>Category</th>\n",
       "      <th>female_winner</th>\n",
       "    </tr>\n",
       "  </thead>\n",
       "  <tbody>\n",
       "    <tr>\n",
       "      <th>0</th>\n",
       "      <td>1900</td>\n",
       "      <td>Chemistry</td>\n",
       "      <td>0.000000</td>\n",
       "    </tr>\n",
       "    <tr>\n",
       "      <th>1</th>\n",
       "      <td>1900</td>\n",
       "      <td>Literature</td>\n",
       "      <td>0.100000</td>\n",
       "    </tr>\n",
       "    <tr>\n",
       "      <th>2</th>\n",
       "      <td>1900</td>\n",
       "      <td>Medicine</td>\n",
       "      <td>0.000000</td>\n",
       "    </tr>\n",
       "    <tr>\n",
       "      <th>3</th>\n",
       "      <td>1900</td>\n",
       "      <td>Peace</td>\n",
       "      <td>0.071429</td>\n",
       "    </tr>\n",
       "    <tr>\n",
       "      <th>4</th>\n",
       "      <td>1900</td>\n",
       "      <td>Physics</td>\n",
       "      <td>0.076923</td>\n",
       "    </tr>\n",
       "    <tr>\n",
       "      <th>...</th>\n",
       "      <td>...</td>\n",
       "      <td>...</td>\n",
       "      <td>...</td>\n",
       "    </tr>\n",
       "    <tr>\n",
       "      <th>67</th>\n",
       "      <td>2020</td>\n",
       "      <td>Economics</td>\n",
       "      <td>0.000000</td>\n",
       "    </tr>\n",
       "    <tr>\n",
       "      <th>68</th>\n",
       "      <td>2020</td>\n",
       "      <td>Literature</td>\n",
       "      <td>0.666667</td>\n",
       "    </tr>\n",
       "    <tr>\n",
       "      <th>69</th>\n",
       "      <td>2020</td>\n",
       "      <td>Medicine</td>\n",
       "      <td>0.000000</td>\n",
       "    </tr>\n",
       "    <tr>\n",
       "      <th>70</th>\n",
       "      <td>2020</td>\n",
       "      <td>Peace</td>\n",
       "      <td>0.166667</td>\n",
       "    </tr>\n",
       "    <tr>\n",
       "      <th>71</th>\n",
       "      <td>2020</td>\n",
       "      <td>Physics</td>\n",
       "      <td>0.111111</td>\n",
       "    </tr>\n",
       "  </tbody>\n",
       "</table>\n",
       "<p>72 rows × 3 columns</p>\n",
       "</div>"
      ],
      "text/plain": [
       "    decade    Category  female_winner\n",
       "0     1900   Chemistry       0.000000\n",
       "1     1900  Literature       0.100000\n",
       "2     1900    Medicine       0.000000\n",
       "3     1900       Peace       0.071429\n",
       "4     1900     Physics       0.076923\n",
       "..     ...         ...            ...\n",
       "67    2020   Economics       0.000000\n",
       "68    2020  Literature       0.666667\n",
       "69    2020    Medicine       0.000000\n",
       "70    2020       Peace       0.166667\n",
       "71    2020     Physics       0.111111\n",
       "\n",
       "[72 rows x 3 columns]"
      ]
     },
     "execution_count": 14,
     "metadata": {},
     "output_type": "execute_result"
    }
   ],
   "source": [
    "# menghitung proporsi pemenang nobel perempuan per dekade\n",
    "nobel['female_winner'] = nobel['Gender'] == 'female'\n",
    "prop_female_winners = nobel.groupby(['decade', 'Category'], as_index=False)['female_winner'].mean()\n",
    "prop_female_winners"
   ]
  },
  {
   "cell_type": "code",
   "execution_count": 15,
   "metadata": {},
   "outputs": [
    {
     "data": {
      "text/html": [
       "<div>\n",
       "<style scoped>\n",
       "    .dataframe tbody tr th:only-of-type {\n",
       "        vertical-align: middle;\n",
       "    }\n",
       "\n",
       "    .dataframe tbody tr th {\n",
       "        vertical-align: top;\n",
       "    }\n",
       "\n",
       "    .dataframe thead th {\n",
       "        text-align: right;\n",
       "    }\n",
       "</style>\n",
       "<table border=\"1\" class=\"dataframe\">\n",
       "  <thead>\n",
       "    <tr style=\"text-align: right;\">\n",
       "      <th></th>\n",
       "      <th>decade</th>\n",
       "      <th>Category</th>\n",
       "    </tr>\n",
       "  </thead>\n",
       "  <tbody>\n",
       "    <tr>\n",
       "      <th>68</th>\n",
       "      <td>2020</td>\n",
       "      <td>Literature</td>\n",
       "    </tr>\n",
       "  </tbody>\n",
       "</table>\n",
       "</div>"
      ],
      "text/plain": [
       "    decade    Category\n",
       "68    2020  Literature"
      ]
     },
     "execution_count": 15,
     "metadata": {},
     "output_type": "execute_result"
    }
   ],
   "source": [
    "# dekade dan kategori dengan proporsi penerima Nobel perempuan tertinggi\n",
    "max_female_decade_category = prop_female_winners[prop_female_winners['female_winner'] == prop_female_winners['female_winner'].max()][['decade', 'Category']] \n",
    "max_female_decade_category"
   ]
  },
  {
   "cell_type": "code",
   "execution_count": 17,
   "metadata": {},
   "outputs": [
    {
     "data": {
      "text/plain": [
       "{2020: 'Literature'}"
      ]
     },
     "execution_count": 17,
     "metadata": {},
     "output_type": "execute_result"
    }
   ],
   "source": [
    "# membuat dictionary yang berisi pasangan dekade dan kategori\n",
    "max_female_dict = {max_female_decade_category['decade'].values[0]: max_female_decade_category['Category'].values[0]}\n",
    "max_female_dict"
   ]
  },
  {
   "cell_type": "code",
   "execution_count": 19,
   "metadata": {},
   "outputs": [
    {
     "name": "stderr",
     "output_type": "stream",
     "text": [
      "c:\\Users\\akmal\\anaconda3\\envs\\keras_env\\lib\\site-packages\\seaborn\\axisgrid.py:123: UserWarning: The figure layout has changed to tight\n",
      "  self._figure.tight_layout(*args, **kwargs)\n"
     ]
    },
    {
     "data": {
      "image/png": "[encoded data removed]",
      "text/plain": [
       "<Figure size 624.25x500 with 1 Axes>"
      ]
     },
     "metadata": {},
     "output_type": "display_data"
    }
   ],
   "source": [
    "ax2 = sns.relplot(x='decade', y='female_winner', hue='Category', data=prop_female_winners, kind=\"line\")"
   ]
  },
  {
   "cell_type": "code",
   "execution_count": 21,
   "metadata": {},
   "outputs": [
    {
     "name": "stdout",
     "output_type": "stream",
     "text": [
      "pemenang nobel perempuan pertama adalah Marie Curie dalam kategori Physics\n"
     ]
    }
   ],
   "source": [
    "# pemenang nobel perempuan pertama\n",
    "nobel_women = nobel[nobel['female_winner']]\n",
    "min_row = nobel_women[nobel_women['Year'] == nobel_women['Year'].min()]\n",
    "first_woman_name = min_row['Firstname'].values[0] + ' ' +min_row['Surname'].values[0]\n",
    "first_woman_category = min_row['Category'].values[0]\n",
    "print(f'pemenang nobel perempuan pertama adalah {first_woman_name} dalam kategori {first_woman_category}')"
   ]
  },
  {
   "cell_type": "code",
   "execution_count": 27,
   "metadata": {},
   "outputs": [
    {
     "data": {
      "text/plain": [
       "['Barry Sharpless',\n",
       " 'Frederick Sanger',\n",
       " 'Marie Curie',\n",
       " 'Linus Pauling',\n",
       " 'John Bardeen']"
      ]
     },
     "execution_count": 27,
     "metadata": {},
     "output_type": "execute_result"
    }
   ],
   "source": [
    "# pemenang nobel 2 kali atau lebih\n",
    "counts = (nobel['Firstname']+ ' ' +nobel['Surname']).value_counts()\n",
    "repeats = (counts[counts >= 2].index)\n",
    "repeat_list = list(repeats)\n",
    "repeat_list"
   ]
  }
 ],
 "metadata": {
  "kernelspec": {
   "display_name": "Python 3",
   "language": "python",
   "name": "python3"
  },
  "language_info": {
   "codemirror_mode": {
    "name": "ipython",
    "version": 3
   },
   "file_extension": ".py",
   "mimetype": "text/x-python",
   "name": "python",
   "nbconvert_exporter": "python",
   "pygments_lexer": "ipython3",
   "version": "3.8.18"
  }
 },
 "nbformat": 4,
 "nbformat_minor": 2
}
